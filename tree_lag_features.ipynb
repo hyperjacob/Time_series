{
 "cells": [
  {
   "cell_type": "code",
   "execution_count": 69,
   "id": "9cf039fe",
   "metadata": {},
   "outputs": [],
   "source": [
    "import numpy as np\n",
    "import pandas as pd\n",
    "import random\n",
    "\n",
    "from sklearn.model_selection import train_test_split, cross_val_score\n",
    "from sklearn.preprocessing import StandardScaler\n",
    "from sklearn.ensemble import RandomForestRegressor\n",
    "from sklearn.metrics import r2_score as r2\n",
    "from sklearn.model_selection import KFold, GridSearchCV\n",
    "from sklearn.metrics import mean_squared_error\n",
    "\n",
    "\n",
    "import matplotlib\n",
    "import matplotlib.pyplot as plt\n",
    "import seaborn as sns\n",
    "%matplotlib inline"
   ]
  },
  {
   "cell_type": "markdown",
   "id": "a4907bb5",
   "metadata": {},
   "source": [
    "Загрузим датасет"
   ]
  },
  {
   "cell_type": "code",
   "execution_count": 116,
   "id": "559cce62",
   "metadata": {},
   "outputs": [
    {
     "name": "stderr",
     "output_type": "stream",
     "text": [
      "/var/folders/4d/01h37whs1gsddkj2yj7jszjh0000gn/T/ipykernel_42652/2255855955.py:1: FutureWarning: The argument 'infer_datetime_format' is deprecated and will be removed in a future version. A strict version of it is now the default, see https://pandas.pydata.org/pdeps/0004-consistent-to-datetime-parsing.html. You can safely remove this argument.\n",
      "  df = pd.read_csv('dataset.csv', header=0, infer_datetime_format=True,\n"
     ]
    }
   ],
   "source": [
    "df = pd.read_csv('dataset.csv', header=0, infer_datetime_format=True,\n",
    "                   parse_dates=['course_finished_date'], index_col=['course_finished_date'])"
   ]
  },
  {
   "cell_type": "code",
   "execution_count": 110,
   "id": "76c691fb",
   "metadata": {},
   "outputs": [],
   "source": [
    "y = df['course_duration_sum']\n",
    "X = df.drop(['course_duration_sum', 'ldap_unique_count', \n",
    "             'learning_unique_count', 'course_id_unique_count', 'program_id_unique_count', \n",
    "             'ct_Article', 'ct_Exercise', 'ct_File', 'ct_Interview', 'ct_Scorm', 'ct_Assessment', 'ct_Video', \n",
    "             'is_DebOcc', 'is_academy', 'is_sage1_3', 'is_sage4_6', 'is_sage7_12', 'is_prof', 'is_mo', 'is_plan', \n",
    "             'is_services', 'is_leadership'], axis=1)"
   ]
  },
  {
   "cell_type": "code",
   "execution_count": 117,
   "id": "5fdaddbe",
   "metadata": {},
   "outputs": [],
   "source": [
    "y = df['course_duration_sum']\n",
    "X = df.drop(['course_duration_sum'], axis=1)"
   ]
  },
  {
   "cell_type": "code",
   "execution_count": 118,
   "id": "89595872",
   "metadata": {},
   "outputs": [
    {
     "data": {
      "text/html": [
       "<div>\n",
       "<style scoped>\n",
       "    .dataframe tbody tr th:only-of-type {\n",
       "        vertical-align: middle;\n",
       "    }\n",
       "\n",
       "    .dataframe tbody tr th {\n",
       "        vertical-align: top;\n",
       "    }\n",
       "\n",
       "    .dataframe thead th {\n",
       "        text-align: right;\n",
       "    }\n",
       "</style>\n",
       "<table border=\"1\" class=\"dataframe\">\n",
       "  <thead>\n",
       "    <tr style=\"text-align: right;\">\n",
       "      <th></th>\n",
       "      <th>Unnamed: 0</th>\n",
       "      <th>ldap_unique_count</th>\n",
       "      <th>learning_unique_count</th>\n",
       "      <th>course_id_unique_count</th>\n",
       "      <th>program_id_unique_count</th>\n",
       "      <th>ct_Article</th>\n",
       "      <th>ct_Exercise</th>\n",
       "      <th>ct_File</th>\n",
       "      <th>ct_Interview</th>\n",
       "      <th>ct_Scorm</th>\n",
       "      <th>...</th>\n",
       "      <th>weekday</th>\n",
       "      <th>weekend</th>\n",
       "      <th>lag_day_8</th>\n",
       "      <th>lag_day_9</th>\n",
       "      <th>lag_day_10</th>\n",
       "      <th>lag_day_11</th>\n",
       "      <th>lag_day_12</th>\n",
       "      <th>lag_day_13</th>\n",
       "      <th>lag_day_14</th>\n",
       "      <th>2_weeks_mean</th>\n",
       "    </tr>\n",
       "    <tr>\n",
       "      <th>course_finished_date</th>\n",
       "      <th></th>\n",
       "      <th></th>\n",
       "      <th></th>\n",
       "      <th></th>\n",
       "      <th></th>\n",
       "      <th></th>\n",
       "      <th></th>\n",
       "      <th></th>\n",
       "      <th></th>\n",
       "      <th></th>\n",
       "      <th></th>\n",
       "      <th></th>\n",
       "      <th></th>\n",
       "      <th></th>\n",
       "      <th></th>\n",
       "      <th></th>\n",
       "      <th></th>\n",
       "      <th></th>\n",
       "      <th></th>\n",
       "      <th></th>\n",
       "      <th></th>\n",
       "    </tr>\n",
       "  </thead>\n",
       "  <tbody>\n",
       "    <tr>\n",
       "      <th>2023-01-01</th>\n",
       "      <td>0</td>\n",
       "      <td>54</td>\n",
       "      <td>149</td>\n",
       "      <td>115</td>\n",
       "      <td>68</td>\n",
       "      <td>0</td>\n",
       "      <td>0</td>\n",
       "      <td>0</td>\n",
       "      <td>0</td>\n",
       "      <td>137</td>\n",
       "      <td>...</td>\n",
       "      <td>6</td>\n",
       "      <td>1</td>\n",
       "      <td>NaN</td>\n",
       "      <td>NaN</td>\n",
       "      <td>NaN</td>\n",
       "      <td>NaN</td>\n",
       "      <td>NaN</td>\n",
       "      <td>NaN</td>\n",
       "      <td>NaN</td>\n",
       "      <td>0.0</td>\n",
       "    </tr>\n",
       "    <tr>\n",
       "      <th>2023-01-02</th>\n",
       "      <td>1</td>\n",
       "      <td>580</td>\n",
       "      <td>1580</td>\n",
       "      <td>444</td>\n",
       "      <td>153</td>\n",
       "      <td>0</td>\n",
       "      <td>0</td>\n",
       "      <td>5</td>\n",
       "      <td>0</td>\n",
       "      <td>1346</td>\n",
       "      <td>...</td>\n",
       "      <td>0</td>\n",
       "      <td>0</td>\n",
       "      <td>NaN</td>\n",
       "      <td>NaN</td>\n",
       "      <td>NaN</td>\n",
       "      <td>NaN</td>\n",
       "      <td>NaN</td>\n",
       "      <td>NaN</td>\n",
       "      <td>NaN</td>\n",
       "      <td>0.0</td>\n",
       "    </tr>\n",
       "    <tr>\n",
       "      <th>2023-01-03</th>\n",
       "      <td>2</td>\n",
       "      <td>699</td>\n",
       "      <td>1896</td>\n",
       "      <td>542</td>\n",
       "      <td>165</td>\n",
       "      <td>0</td>\n",
       "      <td>0</td>\n",
       "      <td>6</td>\n",
       "      <td>0</td>\n",
       "      <td>1634</td>\n",
       "      <td>...</td>\n",
       "      <td>1</td>\n",
       "      <td>0</td>\n",
       "      <td>NaN</td>\n",
       "      <td>NaN</td>\n",
       "      <td>NaN</td>\n",
       "      <td>NaN</td>\n",
       "      <td>NaN</td>\n",
       "      <td>NaN</td>\n",
       "      <td>NaN</td>\n",
       "      <td>0.0</td>\n",
       "    </tr>\n",
       "    <tr>\n",
       "      <th>2023-01-04</th>\n",
       "      <td>3</td>\n",
       "      <td>681</td>\n",
       "      <td>1748</td>\n",
       "      <td>425</td>\n",
       "      <td>161</td>\n",
       "      <td>0</td>\n",
       "      <td>0</td>\n",
       "      <td>3</td>\n",
       "      <td>0</td>\n",
       "      <td>1475</td>\n",
       "      <td>...</td>\n",
       "      <td>2</td>\n",
       "      <td>0</td>\n",
       "      <td>NaN</td>\n",
       "      <td>NaN</td>\n",
       "      <td>NaN</td>\n",
       "      <td>NaN</td>\n",
       "      <td>NaN</td>\n",
       "      <td>NaN</td>\n",
       "      <td>NaN</td>\n",
       "      <td>0.0</td>\n",
       "    </tr>\n",
       "    <tr>\n",
       "      <th>2023-01-05</th>\n",
       "      <td>4</td>\n",
       "      <td>641</td>\n",
       "      <td>1618</td>\n",
       "      <td>502</td>\n",
       "      <td>165</td>\n",
       "      <td>0</td>\n",
       "      <td>0</td>\n",
       "      <td>1</td>\n",
       "      <td>0</td>\n",
       "      <td>1391</td>\n",
       "      <td>...</td>\n",
       "      <td>3</td>\n",
       "      <td>0</td>\n",
       "      <td>NaN</td>\n",
       "      <td>NaN</td>\n",
       "      <td>NaN</td>\n",
       "      <td>NaN</td>\n",
       "      <td>NaN</td>\n",
       "      <td>NaN</td>\n",
       "      <td>NaN</td>\n",
       "      <td>0.0</td>\n",
       "    </tr>\n",
       "  </tbody>\n",
       "</table>\n",
       "<p>5 rows × 32 columns</p>\n",
       "</div>"
      ],
      "text/plain": [
       "                      Unnamed: 0  ldap_unique_count  learning_unique_count  \\\n",
       "course_finished_date                                                         \n",
       "2023-01-01                     0                 54                    149   \n",
       "2023-01-02                     1                580                   1580   \n",
       "2023-01-03                     2                699                   1896   \n",
       "2023-01-04                     3                681                   1748   \n",
       "2023-01-05                     4                641                   1618   \n",
       "\n",
       "                      course_id_unique_count  program_id_unique_count  \\\n",
       "course_finished_date                                                    \n",
       "2023-01-01                               115                       68   \n",
       "2023-01-02                               444                      153   \n",
       "2023-01-03                               542                      165   \n",
       "2023-01-04                               425                      161   \n",
       "2023-01-05                               502                      165   \n",
       "\n",
       "                      ct_Article  ct_Exercise  ct_File  ct_Interview  \\\n",
       "course_finished_date                                                   \n",
       "2023-01-01                     0            0        0             0   \n",
       "2023-01-02                     0            0        5             0   \n",
       "2023-01-03                     0            0        6             0   \n",
       "2023-01-04                     0            0        3             0   \n",
       "2023-01-05                     0            0        1             0   \n",
       "\n",
       "                      ct_Scorm  ...  weekday  weekend  lag_day_8  lag_day_9  \\\n",
       "course_finished_date            ...                                           \n",
       "2023-01-01                 137  ...        6        1        NaN        NaN   \n",
       "2023-01-02                1346  ...        0        0        NaN        NaN   \n",
       "2023-01-03                1634  ...        1        0        NaN        NaN   \n",
       "2023-01-04                1475  ...        2        0        NaN        NaN   \n",
       "2023-01-05                1391  ...        3        0        NaN        NaN   \n",
       "\n",
       "                      lag_day_10  lag_day_11  lag_day_12  lag_day_13  \\\n",
       "course_finished_date                                                   \n",
       "2023-01-01                   NaN         NaN         NaN         NaN   \n",
       "2023-01-02                   NaN         NaN         NaN         NaN   \n",
       "2023-01-03                   NaN         NaN         NaN         NaN   \n",
       "2023-01-04                   NaN         NaN         NaN         NaN   \n",
       "2023-01-05                   NaN         NaN         NaN         NaN   \n",
       "\n",
       "                      lag_day_14  2_weeks_mean  \n",
       "course_finished_date                            \n",
       "2023-01-01                   NaN           0.0  \n",
       "2023-01-02                   NaN           0.0  \n",
       "2023-01-03                   NaN           0.0  \n",
       "2023-01-04                   NaN           0.0  \n",
       "2023-01-05                   NaN           0.0  \n",
       "\n",
       "[5 rows x 32 columns]"
      ]
     },
     "execution_count": 118,
     "metadata": {},
     "output_type": "execute_result"
    }
   ],
   "source": [
    "X.head()"
   ]
  },
  {
   "cell_type": "code",
   "execution_count": 125,
   "id": "a170f157",
   "metadata": {},
   "outputs": [],
   "source": [
    "X_train = X[14:-37]\n",
    "X_valid = X[-37:-30]\n",
    "y_train = y[14:-37]\n",
    "y_valid = y[-37:-30]\n"
   ]
  },
  {
   "cell_type": "code",
   "execution_count": 132,
   "id": "9289ea07",
   "metadata": {},
   "outputs": [],
   "source": [
    "parameters = {    \n",
    "    'n_estimators': [221, 222, 223],\n",
    "    'min_samples_leaf': np.arange(1, 8),\n",
    "    'max_depth': np.arange(1, 16)\n",
    "}\n",
    "\n",
    "parameters = {    \n",
    "    'n_estimators': [217, 218, 219],\n",
    "    'min_samples_leaf': [1],\n",
    "    'max_depth':  [13]\n",
    "}\n",
    "\n",
    "clf = GridSearchCV(\n",
    "    estimator=RandomForestRegressor(random_state=42),\n",
    "    param_grid=parameters,\n",
    "    scoring='neg_mean_squared_error',\n",
    "    cv=10,  \n",
    "    n_jobs = -1\n",
    ")"
   ]
  },
  {
   "cell_type": "code",
   "execution_count": 133,
   "id": "046151c9",
   "metadata": {},
   "outputs": [
    {
     "data": {
      "text/html": [
       "<style>#sk-container-id-15 {color: black;background-color: white;}#sk-container-id-15 pre{padding: 0;}#sk-container-id-15 div.sk-toggleable {background-color: white;}#sk-container-id-15 label.sk-toggleable__label {cursor: pointer;display: block;width: 100%;margin-bottom: 0;padding: 0.3em;box-sizing: border-box;text-align: center;}#sk-container-id-15 label.sk-toggleable__label-arrow:before {content: \"▸\";float: left;margin-right: 0.25em;color: #696969;}#sk-container-id-15 label.sk-toggleable__label-arrow:hover:before {color: black;}#sk-container-id-15 div.sk-estimator:hover label.sk-toggleable__label-arrow:before {color: black;}#sk-container-id-15 div.sk-toggleable__content {max-height: 0;max-width: 0;overflow: hidden;text-align: left;background-color: #f0f8ff;}#sk-container-id-15 div.sk-toggleable__content pre {margin: 0.2em;color: black;border-radius: 0.25em;background-color: #f0f8ff;}#sk-container-id-15 input.sk-toggleable__control:checked~div.sk-toggleable__content {max-height: 200px;max-width: 100%;overflow: auto;}#sk-container-id-15 input.sk-toggleable__control:checked~label.sk-toggleable__label-arrow:before {content: \"▾\";}#sk-container-id-15 div.sk-estimator input.sk-toggleable__control:checked~label.sk-toggleable__label {background-color: #d4ebff;}#sk-container-id-15 div.sk-label input.sk-toggleable__control:checked~label.sk-toggleable__label {background-color: #d4ebff;}#sk-container-id-15 input.sk-hidden--visually {border: 0;clip: rect(1px 1px 1px 1px);clip: rect(1px, 1px, 1px, 1px);height: 1px;margin: -1px;overflow: hidden;padding: 0;position: absolute;width: 1px;}#sk-container-id-15 div.sk-estimator {font-family: monospace;background-color: #f0f8ff;border: 1px dotted black;border-radius: 0.25em;box-sizing: border-box;margin-bottom: 0.5em;}#sk-container-id-15 div.sk-estimator:hover {background-color: #d4ebff;}#sk-container-id-15 div.sk-parallel-item::after {content: \"\";width: 100%;border-bottom: 1px solid gray;flex-grow: 1;}#sk-container-id-15 div.sk-label:hover label.sk-toggleable__label {background-color: #d4ebff;}#sk-container-id-15 div.sk-serial::before {content: \"\";position: absolute;border-left: 1px solid gray;box-sizing: border-box;top: 0;bottom: 0;left: 50%;z-index: 0;}#sk-container-id-15 div.sk-serial {display: flex;flex-direction: column;align-items: center;background-color: white;padding-right: 0.2em;padding-left: 0.2em;position: relative;}#sk-container-id-15 div.sk-item {position: relative;z-index: 1;}#sk-container-id-15 div.sk-parallel {display: flex;align-items: stretch;justify-content: center;background-color: white;position: relative;}#sk-container-id-15 div.sk-item::before, #sk-container-id-15 div.sk-parallel-item::before {content: \"\";position: absolute;border-left: 1px solid gray;box-sizing: border-box;top: 0;bottom: 0;left: 50%;z-index: -1;}#sk-container-id-15 div.sk-parallel-item {display: flex;flex-direction: column;z-index: 1;position: relative;background-color: white;}#sk-container-id-15 div.sk-parallel-item:first-child::after {align-self: flex-end;width: 50%;}#sk-container-id-15 div.sk-parallel-item:last-child::after {align-self: flex-start;width: 50%;}#sk-container-id-15 div.sk-parallel-item:only-child::after {width: 0;}#sk-container-id-15 div.sk-dashed-wrapped {border: 1px dashed gray;margin: 0 0.4em 0.5em 0.4em;box-sizing: border-box;padding-bottom: 0.4em;background-color: white;}#sk-container-id-15 div.sk-label label {font-family: monospace;font-weight: bold;display: inline-block;line-height: 1.2em;}#sk-container-id-15 div.sk-label-container {text-align: center;}#sk-container-id-15 div.sk-container {/* jupyter's `normalize.less` sets `[hidden] { display: none; }` but bootstrap.min.css set `[hidden] { display: none !important; }` so we also need the `!important` here to be able to override the default hidden behavior on the sphinx rendered scikit-learn.org. See: https://github.com/scikit-learn/scikit-learn/issues/21755 */display: inline-block !important;position: relative;}#sk-container-id-15 div.sk-text-repr-fallback {display: none;}</style><div id=\"sk-container-id-15\" class=\"sk-top-container\"><div class=\"sk-text-repr-fallback\"><pre>GridSearchCV(cv=10, estimator=RandomForestRegressor(random_state=42), n_jobs=-1,\n",
       "             param_grid={&#x27;max_depth&#x27;: [13], &#x27;min_samples_leaf&#x27;: [1],\n",
       "                         &#x27;n_estimators&#x27;: [217, 218, 219]},\n",
       "             scoring=&#x27;neg_mean_squared_error&#x27;)</pre><b>In a Jupyter environment, please rerun this cell to show the HTML representation or trust the notebook. <br />On GitHub, the HTML representation is unable to render, please try loading this page with nbviewer.org.</b></div><div class=\"sk-container\" hidden><div class=\"sk-item sk-dashed-wrapped\"><div class=\"sk-label-container\"><div class=\"sk-label sk-toggleable\"><input class=\"sk-toggleable__control sk-hidden--visually\" id=\"sk-estimator-id-43\" type=\"checkbox\" ><label for=\"sk-estimator-id-43\" class=\"sk-toggleable__label sk-toggleable__label-arrow\">GridSearchCV</label><div class=\"sk-toggleable__content\"><pre>GridSearchCV(cv=10, estimator=RandomForestRegressor(random_state=42), n_jobs=-1,\n",
       "             param_grid={&#x27;max_depth&#x27;: [13], &#x27;min_samples_leaf&#x27;: [1],\n",
       "                         &#x27;n_estimators&#x27;: [217, 218, 219]},\n",
       "             scoring=&#x27;neg_mean_squared_error&#x27;)</pre></div></div></div><div class=\"sk-parallel\"><div class=\"sk-parallel-item\"><div class=\"sk-item\"><div class=\"sk-label-container\"><div class=\"sk-label sk-toggleable\"><input class=\"sk-toggleable__control sk-hidden--visually\" id=\"sk-estimator-id-44\" type=\"checkbox\" ><label for=\"sk-estimator-id-44\" class=\"sk-toggleable__label sk-toggleable__label-arrow\">estimator: RandomForestRegressor</label><div class=\"sk-toggleable__content\"><pre>RandomForestRegressor(random_state=42)</pre></div></div></div><div class=\"sk-serial\"><div class=\"sk-item\"><div class=\"sk-estimator sk-toggleable\"><input class=\"sk-toggleable__control sk-hidden--visually\" id=\"sk-estimator-id-45\" type=\"checkbox\" ><label for=\"sk-estimator-id-45\" class=\"sk-toggleable__label sk-toggleable__label-arrow\">RandomForestRegressor</label><div class=\"sk-toggleable__content\"><pre>RandomForestRegressor(random_state=42)</pre></div></div></div></div></div></div></div></div></div></div>"
      ],
      "text/plain": [
       "GridSearchCV(cv=10, estimator=RandomForestRegressor(random_state=42), n_jobs=-1,\n",
       "             param_grid={'max_depth': [13], 'min_samples_leaf': [1],\n",
       "                         'n_estimators': [217, 218, 219]},\n",
       "             scoring='neg_mean_squared_error')"
      ]
     },
     "execution_count": 133,
     "metadata": {},
     "output_type": "execute_result"
    }
   ],
   "source": [
    "clf.fit(X_train, y_train)"
   ]
  },
  {
   "cell_type": "code",
   "execution_count": 134,
   "id": "0beac67e",
   "metadata": {},
   "outputs": [
    {
     "data": {
      "text/plain": [
       "{'max_depth': 13, 'min_samples_leaf': 1, 'n_estimators': 219}"
      ]
     },
     "execution_count": 134,
     "metadata": {},
     "output_type": "execute_result"
    }
   ],
   "source": [
    "clf.best_params_"
   ]
  },
  {
   "cell_type": "code",
   "execution_count": 135,
   "id": "7ce0bc6b",
   "metadata": {},
   "outputs": [],
   "source": [
    "rf_model = RandomForestRegressor(max_depth=13, # глубина дерева  \n",
    "                                 min_samples_leaf=1, # минимальное кол-во наблюдений в листе дерева\n",
    "                                 random_state=42,\n",
    "                                 n_estimators=219  # кол-во деревьев\n",
    "                                 )\n",
    "rf_model.fit(X_train, y_train)\n",
    "train_pred = rf_model.predict(X_train)\n",
    "test_pred = rf_model.predict(X_valid)"
   ]
  },
  {
   "cell_type": "code",
   "execution_count": 136,
   "id": "d34d119c",
   "metadata": {},
   "outputs": [],
   "source": [
    "result_df = pd.DataFrame()\n",
    "result_df[\"test\"] = y_valid\n",
    "result_df[\"pred\"] = test_pred\n",
    "result_df.index = y_valid.index"
   ]
  },
  {
   "cell_type": "code",
   "execution_count": 139,
   "id": "9393e671",
   "metadata": {},
   "outputs": [
    {
     "data": {
      "image/png": "[encoded data removed]",
      "text/plain": [
       "<Figure size 1500x800 with 1 Axes>"
      ]
     },
     "metadata": {},
     "output_type": "display_data"
    }
   ],
   "source": [
    "# выведем три кривые (обучающая, тестовая выборка и тестовый прогноз)\n",
    "plt.figure(figsize=(15,8))\n",
    "plt.plot(y_train[-14:], color = \"black\")\n",
    "plt.plot(result_df[\"test\"], color = \"red\")\n",
    "plt.plot(result_df[\"pred\"], color = \"green\")\n",
    " \n",
    "# заголовок и подписи к осям\n",
    "plt.title(\"Обучающая выборка, тестовая выборка и тестовый прогноз\")\n",
    "plt.ylabel('Время обучения')\n",
    "plt.xlabel('Дни')\n",
    " \n",
    "# добавим сетку\n",
    "plt.grid()\n",
    " \n",
    "plt.show()"
   ]
  },
  {
   "cell_type": "code",
   "execution_count": 138,
   "id": "61aedaec",
   "metadata": {},
   "outputs": [
    {
     "name": "stdout",
     "output_type": "stream",
     "text": [
      "RMSE: 146.99201197356095\n"
     ]
    }
   ],
   "source": [
    "mse = mean_squared_error(result_df[\"test\"], result_df[\"pred\"])\n",
    "print('RMSE:', mse**0.5)"
   ]
  }
 ],
 "metadata": {
  "kernelspec": {
   "display_name": "Python 3 (ipykernel)",
   "language": "python",
   "name": "python3"
  },
  "language_info": {
   "codemirror_mode": {
    "name": "ipython",
    "version": 3
   },
   "file_extension": ".py",
   "mimetype": "text/x-python",
   "name": "python",
   "nbconvert_exporter": "python",
   "pygments_lexer": "ipython3",
   "version": "3.11.7"
  }
 },
 "nbformat": 4,
 "nbformat_minor": 5
}
